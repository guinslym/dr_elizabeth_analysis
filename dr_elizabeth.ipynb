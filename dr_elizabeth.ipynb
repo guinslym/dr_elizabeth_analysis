{
 "cells": [
  {
   "cell_type": "markdown",
   "metadata": {},
   "source": [
    "# Descriptive Analysis - Data Collection"
   ]
  },
  {
   "cell_type": "markdown",
   "metadata": {},
   "source": [
    "<p>This document is a report showing a descriptive analysis of the content of the data collection. From May 18 To June 28th 2016 we targeted users that send direct messages (DM) to a list of targeted journalist or MPs. The DM usually takes the form of mentions. Meaning that a user mention another user in his tweet.</p>\n",
    "\n",
    "<p>Descriptive analysis in the context of this report means that it's not an indepth analysis so it's a brief analysis therefore our conclusion and results might not be accurate. Also the analysis is on 85% of the total of documents contains in the data collection. All the tweets retrieved have been insert into a NoSQL database. Its a document oriented database which makes it easy to insert document (tweets) because each document might not have the same length or fields.  </p>\n",
    "\n",
    "<ul>\n",
    "<li><strong>Supervisor</strong>: Dr. Elizabeth Dubois</li>\n",
    "<li><strong>Author</strong>: Guinsly Mondésir</li>\n",
    "<li><strong>Date</strong>: 2016-08-25</li>\n",
    "<li><strong>Project & credit</strong>: University of Ottawa - Communication departement - Desmarais</li>\n",
    "</ul>"
   ]
  },
  {
   "cell_type": "markdown",
   "metadata": {},
   "source": [
    "### Example of a Tweet send by [The Megaphone](https://twitter.com/RebelMegaphone) and mentioning the journalist [Brian Lilley](https://twitter.com/brianlilley)"
   ]
  },
  {
   "cell_type": "markdown",
   "metadata": {},
   "source": [
    "<a href=\"https://twitter.com/RebelMegaphone/status/733396292324364289/photo/1\" target=\"_blank\"><img src=\"img/brian_lilley.png\"></a>"
   ]
  },
  {
   "cell_type": "markdown",
   "metadata": {},
   "source": [
    "### Requirements"
   ]
  },
  {
   "cell_type": "markdown",
   "metadata": {},
   "source": [
    "<p>You will need to be install on your computer:</p>\n",
    "\n",
    "<ul>\n",
    "<li><strong>MongoDB</strong>: I use the old version (2.6) and I have tried my script only in the 2.6 version because my computer didn't support the 3.x version.</li>\n",
    "<li><strong>Linux/Mac</strong>: The file path that I use are suited for a Mac like computer. Windows will requires to change the file path</li>\n",
    "<li><strong>Continuum Anaconda 3.5 </strong>: if you have <strong>pip</strong> install on your computer you don't need Continuum Anaconda (Ca).</li>\n",
    "<li><strong>Dependencies</strong>: On your CA's terminal you need to type: pip install pymongo. To install the driver need for python to communicate with MongoDB</li>\n",
    "</ul>\n",
    "\n",
    "\n",
    "<p>script and files needed</p>\n",
    "<pre>\n",
    ".\n",
    "├── insert_into_db.py\n",
    "├── live_tweets/\n",
    "\t\t├── user_pictures.json\n",
    "\t\t...(all the .json file)\n",
    "</pre>\n",
    "\n",
    "<ul>\n",
    "<li><strong>insert_into_db.py</strong>: The script to run to insert all the data collection (tweets file) into the db.</li>\n",
    "<li><strong>user_pictures.json</strong>: This file is inside the folder called live_tweets and contains if a user have changed his profile picture</li>\n",
    "</ul>"
   ]
  },
  {
   "cell_type": "markdown",
   "metadata": {},
   "source": [
    "### Importing the necessary modules"
   ]
  },
  {
   "cell_type": "code",
   "execution_count": 27,
   "metadata": {
    "collapsed": false
   },
   "outputs": [],
   "source": [
    "import datetime\n",
    "from collections import Counter\n",
    "\n",
    "import pymongo\n",
    "import pandas as pd\n",
    "from pymongo import MongoClient\n",
    "\n",
    "\n",
    "import pprint\n",
    "pprint.PrettyPrinter(indent=4)\n",
    "\n",
    "\n",
    "from utils import(\n",
    "    one_tweet,\n",
    "    )"
   ]
  },
  {
   "cell_type": "code",
   "execution_count": 28,
   "metadata": {
    "collapsed": false
   },
   "outputs": [],
   "source": [
    "client = MongoClient('localhost', 27017)\n",
    "db = client['test-database']"
   ]
  },
  {
   "cell_type": "markdown",
   "metadata": {},
   "source": [
    "<p>The database' name is called <strong>Test-Database</strong> and it contains 3 collections (or table in MySQL). </p>\n",
    "<ul>\n",
    "<li><strong>tusers</strong>: Contains the list of targeted users (jouralists and MPs)</li>\n",
    "<li><strong>tweets</strong>: Contains 220571 documents or tweets </li>\n",
    "<li><strong>pictures</strong>: Contains of each user' picture info </li>\n",
    "</ul>\n",
    "\n",
    "<p>Example of a **pictures** document</p>\n",
    "<pre>\n",
    "{\n",
    "        \"created_at\": \"2016-06-28 19:37:08\",\n",
    "        \"mysql_id_number\": 101583,\n",
    "        \"normal_image_profile_hash\": \"000018ff7e3c0000\",\n",
    "        \"original_image_profile_hash\": \"000018ff7e3c0000\",\n",
    "        \"profile_image_url \": \"http://pbs.twimg.com/profile_images/747917903127674880/TSwNoA0d_normal.jpg\",\n",
    "        \"twitter_user_id\": \"3983745855\"\n",
    "},\n",
    "{\n",
    "        \"created_at\": \"2016-06-28 19:35:24\",\n",
    "        \"mysql_id_number\": 101578,\n",
    "        \"normal_image_profile_hash\": \"7e3f1f1f1f070303\",\n",
    "        \"original_image_profile_hash\": \"3f1f1f1e1e0f0707\",\n",
    "        \"profile_image_url \": \"http://pbs.twimg.com/profile_images/2299517496/u3347xpqjspo608366zh_normal.jpeg\",\n",
    "        \"twitter_user_id\": \"144484779\"\n",
    "},\n",
    "</pre>"
   ]
  },
  {
   "cell_type": "code",
   "execution_count": 29,
   "metadata": {
    "collapsed": false
   },
   "outputs": [
    {
     "data": {
      "text/plain": [
       "{'avgObjSize': 5374.673806603444,\n",
       " 'collections': 5,\n",
       " 'dataFileVersion': {'major': 4, 'minor': 5},\n",
       " 'dataSize': 1616932992.0,\n",
       " 'db': 'test-database',\n",
       " 'extentFreeList': {'num': 0, 'totalSize': 0},\n",
       " 'fileSize': 2080374784.0,\n",
       " 'indexSize': 9794848,\n",
       " 'indexes': 3,\n",
       " 'nsSizeMB': 16,\n",
       " 'numExtents': 33,\n",
       " 'objects': 300843,\n",
       " 'ok': 1.0,\n",
       " 'storageSize': 1639960576.0}"
      ]
     },
     "execution_count": 29,
     "metadata": {},
     "output_type": "execute_result"
    }
   ],
   "source": [
    "db.command({'dbstats': 1})"
   ]
  },
  {
   "cell_type": "code",
   "execution_count": 23,
   "metadata": {
    "collapsed": false
   },
   "outputs": [
    {
     "data": {
      "text/plain": [
       "{'avgObjSize': 7147,\n",
       " 'count': 220571,\n",
       " 'indexSizes': {'_id_': 7170352},\n",
       " 'lastExtentSize': 415174656,\n",
       " 'nindexes': 1,\n",
       " 'ns': 'test-database.tweets',\n",
       " 'numExtents': 18,\n",
       " 'ok': 1.0,\n",
       " 'paddingFactor': 1.0,\n",
       " 'size': 1576557632.0,\n",
       " 'storageSize': 1580118016.0,\n",
       " 'systemFlags': 1,\n",
       " 'totalIndexSize': 7170352,\n",
       " 'userFlags': 1}"
      ]
     },
     "execution_count": 23,
     "metadata": {},
     "output_type": "execute_result"
    }
   ],
   "source": [
    "db.command({'collstats': 'tweets'})"
   ]
  },
  {
   "cell_type": "markdown",
   "metadata": {},
   "source": [
    "### Example of a Tweet saved in the database"
   ]
  },
  {
   "cell_type": "code",
   "execution_count": 24,
   "metadata": {
    "collapsed": false
   },
   "outputs": [
    {
     "data": {
      "text/plain": [
       "{'_id': ObjectId('57bdf27d6dfd2d104aaea876'),\n",
       " 'contributors': None,\n",
       " 'coordinates': None,\n",
       " 'created_at': 'Wed May 18 21:21:49 +0000 2016',\n",
       " 'entities': {'hashtags': [],\n",
       "  'media': [{'display_url': 'pic.twitter.com/HEMXywSk8k',\n",
       "    'expanded_url': 'http://twitter.com/MichelleRempel/status/732974043608059906/photo/1',\n",
       "    'id': 732974038037848064,\n",
       "    'id_str': '732974038037848064',\n",
       "    'indices': [92, 115],\n",
       "    'media_url': 'http://pbs.twimg.com/media/CiwMAQ7UYAAnJ24.jpg',\n",
       "    'media_url_https': 'https://pbs.twimg.com/media/CiwMAQ7UYAAnJ24.jpg',\n",
       "    'sizes': {'large': {'h': 336, 'resize': 'fit', 'w': 600},\n",
       "     'medium': {'h': 336, 'resize': 'fit', 'w': 600},\n",
       "     'small': {'h': 190, 'resize': 'fit', 'w': 340},\n",
       "     'thumb': {'h': 150, 'resize': 'crop', 'w': 150}},\n",
       "    'source_status_id': 732974043608059906,\n",
       "    'source_status_id_str': '732974043608059906',\n",
       "    'source_user_id': 14538949,\n",
       "    'source_user_id_str': '14538949',\n",
       "    'type': 'photo',\n",
       "    'url': 'https://t.co/HEMXywSk8k'}],\n",
       "  'symbols': [],\n",
       "  'urls': [{'display_url': 'news.nationalpost.com/news/canada/ca…',\n",
       "    'expanded_url': 'http://news.nationalpost.com/news/canada/canadian-politics/kady-omalley-are-the-liberals-prepping-a-procedural-hammer-to-smack-down-opposition-dissent',\n",
       "    'indices': [31, 54],\n",
       "    'url': 'https://t.co/zN1JB7Rk0z'}],\n",
       "  'user_mentions': [{'id': 14538949,\n",
       "    'id_str': '14538949',\n",
       "    'indices': [3, 18],\n",
       "    'name': 'Michelle Rempel, MP',\n",
       "    'screen_name': 'MichelleRempel'}]},\n",
       " 'extended_entities': {'media': [{'display_url': 'pic.twitter.com/HEMXywSk8k',\n",
       "    'expanded_url': 'http://twitter.com/MichelleRempel/status/732974043608059906/photo/1',\n",
       "    'id': 732974038037848064,\n",
       "    'id_str': '732974038037848064',\n",
       "    'indices': [92, 115],\n",
       "    'media_url': 'http://pbs.twimg.com/media/CiwMAQ7UYAAnJ24.jpg',\n",
       "    'media_url_https': 'https://pbs.twimg.com/media/CiwMAQ7UYAAnJ24.jpg',\n",
       "    'sizes': {'large': {'h': 336, 'resize': 'fit', 'w': 600},\n",
       "     'medium': {'h': 336, 'resize': 'fit', 'w': 600},\n",
       "     'small': {'h': 190, 'resize': 'fit', 'w': 340},\n",
       "     'thumb': {'h': 150, 'resize': 'crop', 'w': 150}},\n",
       "    'source_status_id': 732974043608059906,\n",
       "    'source_status_id_str': '732974043608059906',\n",
       "    'source_user_id': 14538949,\n",
       "    'source_user_id_str': '14538949',\n",
       "    'type': 'photo',\n",
       "    'url': 'https://t.co/HEMXywSk8k'}]},\n",
       " 'favorite_count': 0,\n",
       " 'favorited': False,\n",
       " 'filter_level': 'low',\n",
       " 'geo': None,\n",
       " 'id': 733044947994038272,\n",
       " 'id_str': '733044947994038272',\n",
       " 'in_reply_to_screen_name': None,\n",
       " 'in_reply_to_status_id': None,\n",
       " 'in_reply_to_status_id_str': None,\n",
       " 'in_reply_to_user_id': None,\n",
       " 'in_reply_to_user_id_str': None,\n",
       " 'is_quote_status': False,\n",
       " 'lang': 'en',\n",
       " 'place': None,\n",
       " 'possibly_sensitive': False,\n",
       " 'retweet_count': 0,\n",
       " 'retweeted': False,\n",
       " 'retweeted_status': {'contributors': None,\n",
       "  'coordinates': None,\n",
       "  'created_at': 'Wed May 18 16:40:04 +0000 2016',\n",
       "  'entities': {'hashtags': [],\n",
       "   'media': [{'display_url': 'pic.twitter.com/HEMXywSk8k',\n",
       "     'expanded_url': 'http://twitter.com/MichelleRempel/status/732974043608059906/photo/1',\n",
       "     'id': 732974038037848064,\n",
       "     'id_str': '732974038037848064',\n",
       "     'indices': [72, 95],\n",
       "     'media_url': 'http://pbs.twimg.com/media/CiwMAQ7UYAAnJ24.jpg',\n",
       "     'media_url_https': 'https://pbs.twimg.com/media/CiwMAQ7UYAAnJ24.jpg',\n",
       "     'sizes': {'large': {'h': 336, 'resize': 'fit', 'w': 600},\n",
       "      'medium': {'h': 336, 'resize': 'fit', 'w': 600},\n",
       "      'small': {'h': 190, 'resize': 'fit', 'w': 340},\n",
       "      'thumb': {'h': 150, 'resize': 'crop', 'w': 150}},\n",
       "     'type': 'photo',\n",
       "     'url': 'https://t.co/HEMXywSk8k'}],\n",
       "   'symbols': [],\n",
       "   'urls': [{'display_url': 'news.nationalpost.com/news/canada/ca…',\n",
       "     'expanded_url': 'http://news.nationalpost.com/news/canada/canadian-politics/kady-omalley-are-the-liberals-prepping-a-procedural-hammer-to-smack-down-opposition-dissent',\n",
       "     'indices': [11, 34],\n",
       "     'url': 'https://t.co/zN1JB7Rk0z'}],\n",
       "   'user_mentions': []},\n",
       "  'extended_entities': {'media': [{'display_url': 'pic.twitter.com/HEMXywSk8k',\n",
       "     'expanded_url': 'http://twitter.com/MichelleRempel/status/732974043608059906/photo/1',\n",
       "     'id': 732974038037848064,\n",
       "     'id_str': '732974038037848064',\n",
       "     'indices': [72, 95],\n",
       "     'media_url': 'http://pbs.twimg.com/media/CiwMAQ7UYAAnJ24.jpg',\n",
       "     'media_url_https': 'https://pbs.twimg.com/media/CiwMAQ7UYAAnJ24.jpg',\n",
       "     'sizes': {'large': {'h': 336, 'resize': 'fit', 'w': 600},\n",
       "      'medium': {'h': 336, 'resize': 'fit', 'w': 600},\n",
       "      'small': {'h': 190, 'resize': 'fit', 'w': 340},\n",
       "      'thumb': {'h': 150, 'resize': 'crop', 'w': 150}},\n",
       "     'type': 'photo',\n",
       "     'url': 'https://t.co/HEMXywSk8k'}]},\n",
       "  'favorite_count': 28,\n",
       "  'favorited': False,\n",
       "  'filter_level': 'low',\n",
       "  'geo': None,\n",
       "  'id': 732974043608059906,\n",
       "  'id_str': '732974043608059906',\n",
       "  'in_reply_to_screen_name': None,\n",
       "  'in_reply_to_status_id': None,\n",
       "  'in_reply_to_status_id_str': None,\n",
       "  'in_reply_to_user_id': None,\n",
       "  'in_reply_to_user_id_str': None,\n",
       "  'is_quote_status': False,\n",
       "  'lang': 'en',\n",
       "  'place': None,\n",
       "  'possibly_sensitive': False,\n",
       "  'retweet_count': 38,\n",
       "  'retweeted': False,\n",
       "  'source': '<a href=\"http://twitter.com/#!/download/ipad\" rel=\"nofollow\">Twitter for iPad</a>',\n",
       "  'text': 'With this, https://t.co/zN1JB7Rk0z Trudeau and his house leader be like https://t.co/HEMXywSk8k',\n",
       "  'truncated': False,\n",
       "  'user': {'contributors_enabled': False,\n",
       "   'created_at': 'Sat Apr 26 03:10:53 +0000 2008',\n",
       "   'default_profile': True,\n",
       "   'default_profile_image': False,\n",
       "   'description': 'Member of Parliament for Calgary Nose Hill. Fortis Et Liber. YGL.',\n",
       "   'favourites_count': 1694,\n",
       "   'follow_request_sent': None,\n",
       "   'followers_count': 22240,\n",
       "   'following': None,\n",
       "   'friends_count': 1784,\n",
       "   'geo_enabled': True,\n",
       "   'id': 14538949,\n",
       "   'id_str': '14538949',\n",
       "   'is_translator': False,\n",
       "   'lang': 'en',\n",
       "   'listed_count': 550,\n",
       "   'location': 'Calgary  ',\n",
       "   'name': 'Michelle Rempel, MP',\n",
       "   'notifications': None,\n",
       "   'profile_background_color': 'C0DEED',\n",
       "   'profile_background_image_url': 'http://abs.twimg.com/images/themes/theme1/bg.png',\n",
       "   'profile_background_image_url_https': 'https://abs.twimg.com/images/themes/theme1/bg.png',\n",
       "   'profile_background_tile': False,\n",
       "   'profile_banner_url': 'https://pbs.twimg.com/profile_banners/14538949/1435166716',\n",
       "   'profile_image_url': 'http://pbs.twimg.com/profile_images/548903873033682944/eSWPLb3s_normal.jpeg',\n",
       "   'profile_image_url_https': 'https://pbs.twimg.com/profile_images/548903873033682944/eSWPLb3s_normal.jpeg',\n",
       "   'profile_link_color': '0084B4',\n",
       "   'profile_sidebar_border_color': 'C0DEED',\n",
       "   'profile_sidebar_fill_color': 'DDEEF6',\n",
       "   'profile_text_color': '333333',\n",
       "   'profile_use_background_image': True,\n",
       "   'protected': False,\n",
       "   'screen_name': 'MichelleRempel',\n",
       "   'statuses_count': 18247,\n",
       "   'time_zone': 'Mountain Time (US & Canada)',\n",
       "   'url': 'http://www.michellerempel.ca',\n",
       "   'utc_offset': -21600,\n",
       "   'verified': True}},\n",
       " 'source': '<a href=\"http://twitter.com\" rel=\"nofollow\">Twitter Web Client</a>',\n",
       " 'text': 'RT @MichelleRempel: With this, https://t.co/zN1JB7Rk0z Trudeau and his house leader be like https://t.co/HEMXywSk8k',\n",
       " 'timestamp_ms': '1463606509575',\n",
       " 'truncated': False,\n",
       " 'user': {'contributors_enabled': False,\n",
       "  'created_at': 'Thu Mar 15 01:13:09 +0000 2012',\n",
       "  'default_profile': False,\n",
       "  'default_profile_image': False,\n",
       "  'description': 'Conservative, Gamer, and Snow-Gringo. A Neutral Party in the Console Wars, Fierce Partisan in Politics. Views Are My Own.',\n",
       "  'favourites_count': 283,\n",
       "  'follow_request_sent': None,\n",
       "  'followers_count': 2965,\n",
       "  'following': None,\n",
       "  'friends_count': 2173,\n",
       "  'geo_enabled': False,\n",
       "  'id': 524901955,\n",
       "  'id_str': '524901955',\n",
       "  'is_translator': False,\n",
       "  'lang': 'en',\n",
       "  'listed_count': 155,\n",
       "  'location': 'Ottawa, Ontario',\n",
       "  'name': 'Ryu Hayabusa',\n",
       "  'notifications': None,\n",
       "  'profile_background_color': '3B94D9',\n",
       "  'profile_background_image_url': 'http://pbs.twimg.com/profile_background_images/552263848338522112/MDxuqrSt.jpeg',\n",
       "  'profile_background_image_url_https': 'https://pbs.twimg.com/profile_background_images/552263848338522112/MDxuqrSt.jpeg',\n",
       "  'profile_background_tile': False,\n",
       "  'profile_banner_url': 'https://pbs.twimg.com/profile_banners/524901955/1420503106',\n",
       "  'profile_image_url': 'http://pbs.twimg.com/profile_images/719393149777534980/uAJgWyAi_normal.jpg',\n",
       "  'profile_image_url_https': 'https://pbs.twimg.com/profile_images/719393149777534980/uAJgWyAi_normal.jpg',\n",
       "  'profile_link_color': 'DD2E44',\n",
       "  'profile_sidebar_border_color': '181A1E',\n",
       "  'profile_sidebar_fill_color': '252429',\n",
       "  'profile_text_color': '666666',\n",
       "  'profile_use_background_image': True,\n",
       "  'protected': False,\n",
       "  'screen_name': 'CFLancop',\n",
       "  'statuses_count': 195336,\n",
       "  'time_zone': 'Eastern Time (US & Canada)',\n",
       "  'url': None,\n",
       "  'utc_offset': -14400,\n",
       "  'verified': False}}"
      ]
     },
     "execution_count": 24,
     "metadata": {},
     "output_type": "execute_result"
    }
   ],
   "source": [
    "one_tweet\n",
    "#pprint(one_tweet, depth=2, width=50)"
   ]
  },
  {
   "cell_type": "markdown",
   "metadata": {},
   "source": [
    "### Number of documents in the database "
   ]
  },
  {
   "cell_type": "code",
   "execution_count": 51,
   "metadata": {
    "collapsed": false
   },
   "outputs": [
    {
     "data": {
      "text/plain": [
       "220571"
      ]
     },
     "execution_count": 51,
     "metadata": {},
     "output_type": "execute_result"
    }
   ],
   "source": [
    "\n",
    "nb_documents = db.tweets.count()\n",
    "nb_documents"
   ]
  },
  {
   "cell_type": "markdown",
   "metadata": {},
   "source": [
    "So no document is a retweet if we look only at the field or key 'retweeted' in each document"
   ]
  },
  {
   "cell_type": "markdown",
   "metadata": {},
   "source": [
    "### This represent the language that was set (probably by Twitter) to send the tweet"
   ]
  },
  {
   "cell_type": "code",
   "execution_count": 34,
   "metadata": {
    "collapsed": false
   },
   "outputs": [
    {
     "data": {
      "text/html": [
       "<div>\n",
       "<table border=\"1\" class=\"dataframe\">\n",
       "  <thead>\n",
       "    <tr style=\"text-align: right;\">\n",
       "      <th></th>\n",
       "      <th>tweet_language</th>\n",
       "      <th>count</th>\n",
       "    </tr>\n",
       "  </thead>\n",
       "  <tbody>\n",
       "    <tr>\n",
       "      <th>19</th>\n",
       "      <td>en</td>\n",
       "      <td>205731</td>\n",
       "    </tr>\n",
       "    <tr>\n",
       "      <th>30</th>\n",
       "      <td>und</td>\n",
       "      <td>7044</td>\n",
       "    </tr>\n",
       "    <tr>\n",
       "      <th>6</th>\n",
       "      <td>fr</td>\n",
       "      <td>4158</td>\n",
       "    </tr>\n",
       "    <tr>\n",
       "      <th>37</th>\n",
       "      <td>es</td>\n",
       "      <td>533</td>\n",
       "    </tr>\n",
       "    <tr>\n",
       "      <th>15</th>\n",
       "      <td>in</td>\n",
       "      <td>505</td>\n",
       "    </tr>\n",
       "    <tr>\n",
       "      <th>35</th>\n",
       "      <td>tl</td>\n",
       "      <td>470</td>\n",
       "    </tr>\n",
       "    <tr>\n",
       "      <th>8</th>\n",
       "      <td>pt</td>\n",
       "      <td>418</td>\n",
       "    </tr>\n",
       "    <tr>\n",
       "      <th>34</th>\n",
       "      <td>ht</td>\n",
       "      <td>242</td>\n",
       "    </tr>\n",
       "    <tr>\n",
       "      <th>4</th>\n",
       "      <td>ja</td>\n",
       "      <td>203</td>\n",
       "    </tr>\n",
       "    <tr>\n",
       "      <th>3</th>\n",
       "      <td>de</td>\n",
       "      <td>129</td>\n",
       "    </tr>\n",
       "  </tbody>\n",
       "</table>\n",
       "</div>"
      ],
      "text/plain": [
       "   tweet_language   count\n",
       "19             en  205731\n",
       "30            und    7044\n",
       "6              fr    4158\n",
       "37             es     533\n",
       "15             in     505\n",
       "35             tl     470\n",
       "8              pt     418\n",
       "34             ht     242\n",
       "4              ja     203\n",
       "3              de     129"
      ]
     },
     "execution_count": 34,
     "metadata": {},
     "output_type": "execute_result"
    }
   ],
   "source": [
    "tweet_languages = [post.get('lang') for post in db.tweets.find()]\n",
    "tweet_languages = Counter(tweet_languages)\n",
    "#create DF\n",
    "twitter_tweets_languages = pd.DataFrame.from_dict(tweet_languages, orient='index').reset_index()\n",
    "twitter_tweets_languages = twitter_tweets_languages.rename(columns={'index':'tweet_language', 0:'count'}).sort_values('count',ascending=False )\n",
    "twitter_tweets_languages.head(10)"
   ]
  },
  {
   "cell_type": "markdown",
   "metadata": {},
   "source": [
    "### This represent the language set by the user in his Profile"
   ]
  },
  {
   "cell_type": "code",
   "execution_count": 35,
   "metadata": {
    "collapsed": false
   },
   "outputs": [
    {
     "data": {
      "text/html": [
       "<div>\n",
       "<table border=\"1\" class=\"dataframe\">\n",
       "  <thead>\n",
       "    <tr style=\"text-align: right;\">\n",
       "      <th></th>\n",
       "      <th>user_language</th>\n",
       "      <th>count</th>\n",
       "    </tr>\n",
       "  </thead>\n",
       "  <tbody>\n",
       "    <tr>\n",
       "      <th>33</th>\n",
       "      <td>en</td>\n",
       "      <td>205990</td>\n",
       "    </tr>\n",
       "    <tr>\n",
       "      <th>3</th>\n",
       "      <td>fr</td>\n",
       "      <td>5495</td>\n",
       "    </tr>\n",
       "    <tr>\n",
       "      <th>17</th>\n",
       "      <td>en-gb</td>\n",
       "      <td>4067</td>\n",
       "    </tr>\n",
       "    <tr>\n",
       "      <th>6</th>\n",
       "      <td>en-GB</td>\n",
       "      <td>2715</td>\n",
       "    </tr>\n",
       "    <tr>\n",
       "      <th>1</th>\n",
       "      <td>es</td>\n",
       "      <td>488</td>\n",
       "    </tr>\n",
       "    <tr>\n",
       "      <th>27</th>\n",
       "      <td>pt</td>\n",
       "      <td>391</td>\n",
       "    </tr>\n",
       "    <tr>\n",
       "      <th>2</th>\n",
       "      <td>ja</td>\n",
       "      <td>261</td>\n",
       "    </tr>\n",
       "    <tr>\n",
       "      <th>11</th>\n",
       "      <td>de</td>\n",
       "      <td>160</td>\n",
       "    </tr>\n",
       "    <tr>\n",
       "      <th>29</th>\n",
       "      <td>id</td>\n",
       "      <td>146</td>\n",
       "    </tr>\n",
       "    <tr>\n",
       "      <th>34</th>\n",
       "      <td>ru</td>\n",
       "      <td>121</td>\n",
       "    </tr>\n",
       "  </tbody>\n",
       "</table>\n",
       "</div>"
      ],
      "text/plain": [
       "   user_language   count\n",
       "33            en  205990\n",
       "3             fr    5495\n",
       "17         en-gb    4067\n",
       "6          en-GB    2715\n",
       "1             es     488\n",
       "27            pt     391\n",
       "2             ja     261\n",
       "11            de     160\n",
       "29            id     146\n",
       "34            ru     121"
      ]
     },
     "execution_count": 35,
     "metadata": {},
     "output_type": "execute_result"
    }
   ],
   "source": [
    "user_languages = [post.get('user').get('lang')  for post in db.tweets.find()]\n",
    "user_languages = Counter(user_languages)\n",
    "#create DF\n",
    "twitter_user_languages = pd.DataFrame.from_dict(user_languages, orient='index').reset_index()\n",
    "twitter_user_languages = twitter_user_languages.rename(columns={'index':'user_language', 0:'count'}).sort_values('count',ascending=False )\n",
    "twitter_user_languages.head(10)"
   ]
  },
  {
   "cell_type": "markdown",
   "metadata": {},
   "source": [
    "### Top 10 users that tweets the most "
   ]
  },
  {
   "cell_type": "code",
   "execution_count": 36,
   "metadata": {
    "collapsed": false
   },
   "outputs": [
    {
     "data": {
      "text/html": [
       "<div>\n",
       "<table border=\"1\" class=\"dataframe\">\n",
       "  <thead>\n",
       "    <tr style=\"text-align: right;\">\n",
       "      <th></th>\n",
       "      <th>screen_name</th>\n",
       "      <th>count</th>\n",
       "    </tr>\n",
       "  </thead>\n",
       "  <tbody>\n",
       "    <tr>\n",
       "      <th>21599</th>\n",
       "      <td>ruthmkb</td>\n",
       "      <td>765</td>\n",
       "    </tr>\n",
       "    <tr>\n",
       "      <th>26734</th>\n",
       "      <td>sultanofsnooze</td>\n",
       "      <td>610</td>\n",
       "    </tr>\n",
       "    <tr>\n",
       "      <th>5251</th>\n",
       "      <td>barryfranklin21</td>\n",
       "      <td>607</td>\n",
       "    </tr>\n",
       "    <tr>\n",
       "      <th>40601</th>\n",
       "      <td>littleshasta</td>\n",
       "      <td>588</td>\n",
       "    </tr>\n",
       "    <tr>\n",
       "      <th>14018</th>\n",
       "      <td>davidakin</td>\n",
       "      <td>573</td>\n",
       "    </tr>\n",
       "    <tr>\n",
       "      <th>49008</th>\n",
       "      <td>Tintie4</td>\n",
       "      <td>490</td>\n",
       "    </tr>\n",
       "    <tr>\n",
       "      <th>40760</th>\n",
       "      <td>EdTanas</td>\n",
       "      <td>476</td>\n",
       "    </tr>\n",
       "    <tr>\n",
       "      <th>60670</th>\n",
       "      <td>MattLabor</td>\n",
       "      <td>463</td>\n",
       "    </tr>\n",
       "    <tr>\n",
       "      <th>44622</th>\n",
       "      <td>GlennMcmillan14</td>\n",
       "      <td>462</td>\n",
       "    </tr>\n",
       "    <tr>\n",
       "      <th>4622</th>\n",
       "      <td>JoanneCangal</td>\n",
       "      <td>426</td>\n",
       "    </tr>\n",
       "  </tbody>\n",
       "</table>\n",
       "</div>"
      ],
      "text/plain": [
       "           screen_name  count\n",
       "21599          ruthmkb    765\n",
       "26734   sultanofsnooze    610\n",
       "5251   barryfranklin21    607\n",
       "40601     littleshasta    588\n",
       "14018        davidakin    573\n",
       "49008          Tintie4    490\n",
       "40760          EdTanas    476\n",
       "60670        MattLabor    463\n",
       "44622  GlennMcmillan14    462\n",
       "4622      JoanneCangal    426"
      ]
     },
     "execution_count": 36,
     "metadata": {},
     "output_type": "execute_result"
    }
   ],
   "source": [
    "screen_names = [post.get('user').get('screen_name') for post in db.tweets.find()]\n",
    "screen_names = Counter(screen_names)\n",
    "#create DF\n",
    "df = pd.DataFrame.from_dict(screen_names, orient='index').reset_index()\n",
    "df = df.rename(columns={'index':'screen_name', 0:'count'}).sort_values('count',ascending=False )\n",
    "df.head(10)"
   ]
  },
  {
   "cell_type": "markdown",
   "metadata": {},
   "source": [
    "### What timezone were set in the user's Profile (top 10) "
   ]
  },
  {
   "cell_type": "code",
   "execution_count": 37,
   "metadata": {
    "collapsed": false
   },
   "outputs": [
    {
     "data": {
      "text/html": [
       "<div>\n",
       "<table border=\"1\" class=\"dataframe\">\n",
       "  <thead>\n",
       "    <tr style=\"text-align: right;\">\n",
       "      <th></th>\n",
       "      <th>time_zone</th>\n",
       "      <th>count</th>\n",
       "    </tr>\n",
       "  </thead>\n",
       "  <tbody>\n",
       "    <tr>\n",
       "      <th>191</th>\n",
       "      <td>None</td>\n",
       "      <td>77366</td>\n",
       "    </tr>\n",
       "    <tr>\n",
       "      <th>187</th>\n",
       "      <td>Eastern Time (US &amp; Canada)</td>\n",
       "      <td>46231</td>\n",
       "    </tr>\n",
       "    <tr>\n",
       "      <th>172</th>\n",
       "      <td>Pacific Time (US &amp; Canada)</td>\n",
       "      <td>26945</td>\n",
       "    </tr>\n",
       "    <tr>\n",
       "      <th>97</th>\n",
       "      <td>Central Time (US &amp; Canada)</td>\n",
       "      <td>12478</td>\n",
       "    </tr>\n",
       "    <tr>\n",
       "      <th>196</th>\n",
       "      <td>Mountain Time (US &amp; Canada)</td>\n",
       "      <td>10968</td>\n",
       "    </tr>\n",
       "    <tr>\n",
       "      <th>142</th>\n",
       "      <td>London</td>\n",
       "      <td>8241</td>\n",
       "    </tr>\n",
       "    <tr>\n",
       "      <th>52</th>\n",
       "      <td>Atlantic Time (Canada)</td>\n",
       "      <td>7952</td>\n",
       "    </tr>\n",
       "    <tr>\n",
       "      <th>157</th>\n",
       "      <td>Quito</td>\n",
       "      <td>7525</td>\n",
       "    </tr>\n",
       "    <tr>\n",
       "      <th>129</th>\n",
       "      <td>Amsterdam</td>\n",
       "      <td>4049</td>\n",
       "    </tr>\n",
       "    <tr>\n",
       "      <th>83</th>\n",
       "      <td>Casablanca</td>\n",
       "      <td>2738</td>\n",
       "    </tr>\n",
       "  </tbody>\n",
       "</table>\n",
       "</div>"
      ],
      "text/plain": [
       "                       time_zone  count\n",
       "191                         None  77366\n",
       "187   Eastern Time (US & Canada)  46231\n",
       "172   Pacific Time (US & Canada)  26945\n",
       "97    Central Time (US & Canada)  12478\n",
       "196  Mountain Time (US & Canada)  10968\n",
       "142                       London   8241\n",
       "52        Atlantic Time (Canada)   7952\n",
       "157                        Quito   7525\n",
       "129                    Amsterdam   4049\n",
       "83                    Casablanca   2738"
      ]
     },
     "execution_count": 37,
     "metadata": {},
     "output_type": "execute_result"
    }
   ],
   "source": [
    "time_zones = [post.get('user').get('time_zone') for post in db.tweets.find()]\n",
    "time_zones = Counter(time_zones)\n",
    "#create DF\n",
    "df = pd.DataFrame.from_dict(time_zones, orient='index').reset_index()\n",
    "df = df.rename(columns={'index':'time_zone', 0:'count'}).sort_values('count',ascending=False )\n",
    "df.head(10)"
   ]
  },
  {
   "cell_type": "markdown",
   "metadata": {},
   "source": [
    "### What location were set in the user's Profile (top 10) "
   ]
  },
  {
   "cell_type": "code",
   "execution_count": 38,
   "metadata": {
    "collapsed": false
   },
   "outputs": [
    {
     "data": {
      "text/html": [
       "<div>\n",
       "<table border=\"1\" class=\"dataframe\">\n",
       "  <thead>\n",
       "    <tr style=\"text-align: right;\">\n",
       "      <th></th>\n",
       "      <th>locations</th>\n",
       "      <th>count</th>\n",
       "    </tr>\n",
       "  </thead>\n",
       "  <tbody>\n",
       "    <tr>\n",
       "      <th>17910</th>\n",
       "      <td>None</td>\n",
       "      <td>65779</td>\n",
       "    </tr>\n",
       "    <tr>\n",
       "      <th>5682</th>\n",
       "      <td>Canada</td>\n",
       "      <td>8132</td>\n",
       "    </tr>\n",
       "    <tr>\n",
       "      <th>12444</th>\n",
       "      <td>Toronto</td>\n",
       "      <td>6610</td>\n",
       "    </tr>\n",
       "    <tr>\n",
       "      <th>4639</th>\n",
       "      <td>Ottawa</td>\n",
       "      <td>5157</td>\n",
       "    </tr>\n",
       "    <tr>\n",
       "      <th>17558</th>\n",
       "      <td>Ottawa, Ontario</td>\n",
       "      <td>3914</td>\n",
       "    </tr>\n",
       "    <tr>\n",
       "      <th>4620</th>\n",
       "      <td>Ontario, Canada</td>\n",
       "      <td>2832</td>\n",
       "    </tr>\n",
       "    <tr>\n",
       "      <th>9348</th>\n",
       "      <td>Ottawa, Canada</td>\n",
       "      <td>2336</td>\n",
       "    </tr>\n",
       "    <tr>\n",
       "      <th>6161</th>\n",
       "      <td>Toronto, Ontario</td>\n",
       "      <td>2165</td>\n",
       "    </tr>\n",
       "    <tr>\n",
       "      <th>15805</th>\n",
       "      <td>Ottawa, Ontario, Canada</td>\n",
       "      <td>1677</td>\n",
       "    </tr>\n",
       "    <tr>\n",
       "      <th>4458</th>\n",
       "      <td>Alberta, Canada</td>\n",
       "      <td>1494</td>\n",
       "    </tr>\n",
       "  </tbody>\n",
       "</table>\n",
       "</div>"
      ],
      "text/plain": [
       "                     locations  count\n",
       "17910                     None  65779\n",
       "5682                    Canada   8132\n",
       "12444                  Toronto   6610\n",
       "4639                    Ottawa   5157\n",
       "17558          Ottawa, Ontario   3914\n",
       "4620           Ontario, Canada   2832\n",
       "9348            Ottawa, Canada   2336\n",
       "6161          Toronto, Ontario   2165\n",
       "15805  Ottawa, Ontario, Canada   1677\n",
       "4458           Alberta, Canada   1494"
      ]
     },
     "execution_count": 38,
     "metadata": {},
     "output_type": "execute_result"
    }
   ],
   "source": [
    "locations = [post.get('user').get('location') for post in db.tweets.find()]\n",
    "locations = Counter(locations)\n",
    "#create DF\n",
    "df = pd.DataFrame.from_dict(locations, orient='index').reset_index()\n",
    "df = df.rename(columns={'index':'locations', 0:'count'}).sort_values('count',ascending=False )\n",
    "df.head(10)"
   ]
  },
  {
   "cell_type": "markdown",
   "metadata": {},
   "source": [
    "With that kind of non-consitant field name it's a bit difficult to create a [choropleth map](http://www.phac-aspc.gc.ca/publicat/hpcdp-pspmc/30-1/images/fig1b_ar_01-eng.gif)"
   ]
  },
  {
   "cell_type": "markdown",
   "metadata": {},
   "source": [
    "### Does the user have verified its account ?"
   ]
  },
  {
   "cell_type": "code",
   "execution_count": 39,
   "metadata": {
    "collapsed": false
   },
   "outputs": [
    {
     "data": {
      "text/html": [
       "<div>\n",
       "<table border=\"1\" class=\"dataframe\">\n",
       "  <thead>\n",
       "    <tr style=\"text-align: right;\">\n",
       "      <th></th>\n",
       "      <th>notifications</th>\n",
       "      <th>count</th>\n",
       "    </tr>\n",
       "  </thead>\n",
       "  <tbody>\n",
       "    <tr>\n",
       "      <th>0</th>\n",
       "      <td>False</td>\n",
       "      <td>209741</td>\n",
       "    </tr>\n",
       "    <tr>\n",
       "      <th>1</th>\n",
       "      <td>True</td>\n",
       "      <td>10830</td>\n",
       "    </tr>\n",
       "  </tbody>\n",
       "</table>\n",
       "</div>"
      ],
      "text/plain": [
       "  notifications   count\n",
       "0         False  209741\n",
       "1          True   10830"
      ]
     },
     "execution_count": 39,
     "metadata": {},
     "output_type": "execute_result"
    }
   ],
   "source": [
    "verifications = [post.get('user').get('verified') for post in db.tweets.find()]\n",
    "verifications = Counter(verifications)\n",
    "#create DF\n",
    "df_verifications = pd.DataFrame.from_dict(verifications, orient='index').reset_index()\n",
    "df_verifications = df_verifications.rename(columns={'index':'notifications', 0:'count'}).sort_values('count',ascending=False )\n",
    "df_verifications.head(10)"
   ]
  },
  {
   "cell_type": "markdown",
   "metadata": {},
   "source": [
    "<h3>Does the user have changed its user default image</h3>"
   ]
  },
  {
   "cell_type": "code",
   "execution_count": 40,
   "metadata": {
    "collapsed": false
   },
   "outputs": [
    {
     "data": {
      "text/html": [
       "<div>\n",
       "<table border=\"1\" class=\"dataframe\">\n",
       "  <thead>\n",
       "    <tr style=\"text-align: right;\">\n",
       "      <th></th>\n",
       "      <th>default_profile_image</th>\n",
       "      <th>count</th>\n",
       "    </tr>\n",
       "  </thead>\n",
       "  <tbody>\n",
       "    <tr>\n",
       "      <th>0</th>\n",
       "      <td>False</td>\n",
       "      <td>213036</td>\n",
       "    </tr>\n",
       "    <tr>\n",
       "      <th>1</th>\n",
       "      <td>True</td>\n",
       "      <td>7535</td>\n",
       "    </tr>\n",
       "  </tbody>\n",
       "</table>\n",
       "</div>"
      ],
      "text/plain": [
       "  default_profile_image   count\n",
       "0                 False  213036\n",
       "1                  True    7535"
      ]
     },
     "execution_count": 40,
     "metadata": {},
     "output_type": "execute_result"
    }
   ],
   "source": [
    "default_profile_images = [post.get('user').get('default_profile_image') for post in db.tweets.find()]\n",
    "default_profile_images = Counter(default_profile_images)\n",
    "#create DF\n",
    "df = pd.DataFrame.from_dict(default_profile_images, orient='index').reset_index()\n",
    "df = df.rename(columns={'index':'default_profile_image', 0:'count'}).sort_values('count',ascending=False )\n",
    "df.head(10)"
   ]
  },
  {
   "cell_type": "markdown",
   "metadata": {},
   "source": [
    "I don't think the last 2 stats are accurate. \n",
    "**Does the user have changed its user default image** && \n",
    "**Does the user have verified its account** . Or maybe that Twitter doesn't update the value of this field ???"
   ]
  },
  {
   "cell_type": "markdown",
   "metadata": {},
   "source": [
    "<h3>Top 10 date that have the most tweets</h3>"
   ]
  },
  {
   "cell_type": "code",
   "execution_count": 41,
   "metadata": {
    "collapsed": false
   },
   "outputs": [
    {
     "data": {
      "text/html": [
       "<div>\n",
       "<table border=\"1\" class=\"dataframe\">\n",
       "  <thead>\n",
       "    <tr style=\"text-align: right;\">\n",
       "      <th></th>\n",
       "      <th>created_at</th>\n",
       "      <th>count</th>\n",
       "    </tr>\n",
       "  </thead>\n",
       "  <tbody>\n",
       "    <tr>\n",
       "      <th>26</th>\n",
       "      <td>Thu May 19 2016</td>\n",
       "      <td>16017</td>\n",
       "    </tr>\n",
       "    <tr>\n",
       "      <th>3</th>\n",
       "      <td>Thu Jun 02 2016</td>\n",
       "      <td>8869</td>\n",
       "    </tr>\n",
       "    <tr>\n",
       "      <th>8</th>\n",
       "      <td>Fri May 27 2016</td>\n",
       "      <td>8509</td>\n",
       "    </tr>\n",
       "    <tr>\n",
       "      <th>22</th>\n",
       "      <td>Thu Jun 16 2016</td>\n",
       "      <td>8313</td>\n",
       "    </tr>\n",
       "    <tr>\n",
       "      <th>21</th>\n",
       "      <td>Tue Jun 21 2016</td>\n",
       "      <td>8302</td>\n",
       "    </tr>\n",
       "    <tr>\n",
       "      <th>9</th>\n",
       "      <td>Mon Jun 20 2016</td>\n",
       "      <td>7586</td>\n",
       "    </tr>\n",
       "    <tr>\n",
       "      <th>12</th>\n",
       "      <td>Wed Jun 01 2016</td>\n",
       "      <td>6802</td>\n",
       "    </tr>\n",
       "    <tr>\n",
       "      <th>41</th>\n",
       "      <td>Fri Jun 17 2016</td>\n",
       "      <td>6712</td>\n",
       "    </tr>\n",
       "    <tr>\n",
       "      <th>34</th>\n",
       "      <td>Sat May 28 2016</td>\n",
       "      <td>6687</td>\n",
       "    </tr>\n",
       "    <tr>\n",
       "      <th>7</th>\n",
       "      <td>Wed Jun 15 2016</td>\n",
       "      <td>6542</td>\n",
       "    </tr>\n",
       "  </tbody>\n",
       "</table>\n",
       "</div>"
      ],
      "text/plain": [
       "         created_at  count\n",
       "26  Thu May 19 2016  16017\n",
       "3   Thu Jun 02 2016   8869\n",
       "8   Fri May 27 2016   8509\n",
       "22  Thu Jun 16 2016   8313\n",
       "21  Tue Jun 21 2016   8302\n",
       "9   Mon Jun 20 2016   7586\n",
       "12  Wed Jun 01 2016   6802\n",
       "41  Fri Jun 17 2016   6712\n",
       "34  Sat May 28 2016   6687\n",
       "7   Wed Jun 15 2016   6542"
      ]
     },
     "execution_count": 41,
     "metadata": {},
     "output_type": "execute_result"
    }
   ],
   "source": [
    "def simplify_the_date(this_date):\n",
    "    this_date = this_date.split()\n",
    "    this_date = this_date[0] + ' ' + this_date[1] + ' ' + this_date[2] + ' ' +this_date[-1] \n",
    "    return this_date\n",
    "\n",
    "created_at = [post.get('created_at') for post in db.tweets.find()]\n",
    "created_at = [simplify_the_date(this_date) for this_date in created_at]\n",
    "created_at = Counter(created_at)\n",
    "#create DF\n",
    "df = pd.DataFrame.from_dict(created_at, orient='index').reset_index()\n",
    "df = df.rename(columns={'index':'created_at', 0:'count'}).sort_values('count',ascending=False )\n",
    "df.head(10)"
   ]
  },
  {
   "cell_type": "markdown",
   "metadata": {},
   "source": [
    "### Retweets "
   ]
  },
  {
   "cell_type": "code",
   "execution_count": 42,
   "metadata": {
    "collapsed": false
   },
   "outputs": [
    {
     "data": {
      "text/plain": [
       "0"
      ]
     },
     "execution_count": 42,
     "metadata": {},
     "output_type": "execute_result"
    }
   ],
   "source": [
    "result = db.tweets.find({\"retweeted\": True}).count()\n",
    "result"
   ]
  },
  {
   "cell_type": "markdown",
   "metadata": {},
   "source": [
    "So no document is a **retweet** if we look only at the field or key **retweeted** in each document. But if we look at the field or key named **text** if the content of the text starts with a **RT** than it's a retweet."
   ]
  },
  {
   "cell_type": "markdown",
   "metadata": {},
   "source": [
    "<pre>\"text\": \"RT @RebelMegaphone: #elbowgate exposes Justin Trudeau'd authoritarian streak @brianlilley https://t.co/Mjg3IQhQzQ #cdnpoli #tcot https://t.…\"</pre>"
   ]
  },
  {
   "cell_type": "code",
   "execution_count": 43,
   "metadata": {
    "collapsed": false
   },
   "outputs": [
    {
     "data": {
      "text/html": [
       "<div>\n",
       "<table border=\"1\" class=\"dataframe\">\n",
       "  <thead>\n",
       "    <tr style=\"text-align: right;\">\n",
       "      <th></th>\n",
       "      <th>retweets</th>\n",
       "      <th>count</th>\n",
       "    </tr>\n",
       "  </thead>\n",
       "  <tbody>\n",
       "    <tr>\n",
       "      <th>0</th>\n",
       "      <td>False</td>\n",
       "      <td>132404</td>\n",
       "    </tr>\n",
       "    <tr>\n",
       "      <th>1</th>\n",
       "      <td>True</td>\n",
       "      <td>88167</td>\n",
       "    </tr>\n",
       "  </tbody>\n",
       "</table>\n",
       "</div>"
      ],
      "text/plain": [
       "  retweets   count\n",
       "0    False  132404\n",
       "1     True   88167"
      ]
     },
     "execution_count": 43,
     "metadata": {},
     "output_type": "execute_result"
    }
   ],
   "source": [
    "def is_this_a_retweet(retweet):\n",
    "    if retweet.startswith('RT'):\n",
    "        return True\n",
    "    else:\n",
    "        return False\n",
    "\n",
    "tweets = [post.get('text') for post in db.tweets.find()]\n",
    "tweets = [is_this_a_retweet(tweets) for tweets in tweets]\n",
    "tweets = Counter(tweets)\n",
    "#create DF\n",
    "df = pd.DataFrame.from_dict(tweets, orient='index').reset_index()\n",
    "df = df.rename(columns={'index':'retweets', 0:'count'}).sort_values('count',ascending=False )\n",
    "df.head(10)"
   ]
  },
  {
   "cell_type": "code",
   "execution_count": 44,
   "metadata": {
    "collapsed": false
   },
   "outputs": [
    {
     "data": {
      "text/plain": [
       "'66.589378% of the documents are retweets'"
      ]
     },
     "execution_count": 44,
     "metadata": {},
     "output_type": "execute_result"
    }
   ],
   "source": [
    "\"{0:2f}% of the documents are retweets\".format(88167/132404*100)"
   ]
  },
  {
   "cell_type": "markdown",
   "metadata": {},
   "source": [
    "So I believe that Twitter doesn't necessarily update all the fields. Meaning that maybe the most important fields are 'Mentions', 'text', 'urls'... and some other fields are not updated automatically ???"
   ]
  },
  {
   "cell_type": "markdown",
   "metadata": {},
   "source": [
    "### Send by"
   ]
  },
  {
   "cell_type": "code",
   "execution_count": 45,
   "metadata": {
    "collapsed": false
   },
   "outputs": [
    {
     "data": {
      "text/html": [
       "<div>\n",
       "<table border=\"1\" class=\"dataframe\">\n",
       "  <thead>\n",
       "    <tr style=\"text-align: right;\">\n",
       "      <th></th>\n",
       "      <th>source</th>\n",
       "      <th>count</th>\n",
       "    </tr>\n",
       "  </thead>\n",
       "  <tbody>\n",
       "    <tr>\n",
       "      <th>528</th>\n",
       "      <td>http://twitter.com</td>\n",
       "      <td>83906</td>\n",
       "    </tr>\n",
       "    <tr>\n",
       "      <th>203</th>\n",
       "      <td>http://twitter.com/download/iphone</td>\n",
       "      <td>73660</td>\n",
       "    </tr>\n",
       "    <tr>\n",
       "      <th>510</th>\n",
       "      <td>http://twitter.com/download/android</td>\n",
       "      <td>37083</td>\n",
       "    </tr>\n",
       "    <tr>\n",
       "      <th>198</th>\n",
       "      <td>https://about.twitter.com/products/tweetdeck</td>\n",
       "      <td>8697</td>\n",
       "    </tr>\n",
       "    <tr>\n",
       "      <th>149</th>\n",
       "      <td>https://mobile.twitter.com</td>\n",
       "      <td>3903</td>\n",
       "    </tr>\n",
       "    <tr>\n",
       "      <th>69</th>\n",
       "      <td>http://tapbots.com/tweetbot</td>\n",
       "      <td>2081</td>\n",
       "    </tr>\n",
       "    <tr>\n",
       "      <th>74</th>\n",
       "      <td>http://www.hootsuite.com</td>\n",
       "      <td>1518</td>\n",
       "    </tr>\n",
       "    <tr>\n",
       "      <th>125</th>\n",
       "      <td>http://ifttt.com</td>\n",
       "      <td>775</td>\n",
       "    </tr>\n",
       "    <tr>\n",
       "      <th>233</th>\n",
       "      <td>http://tapbots.com/software/tweetbot/mac</td>\n",
       "      <td>673</td>\n",
       "    </tr>\n",
       "    <tr>\n",
       "      <th>151</th>\n",
       "      <td>http://itunes.apple.com/us/app/twitter/id40978...</td>\n",
       "      <td>542</td>\n",
       "    </tr>\n",
       "  </tbody>\n",
       "</table>\n",
       "</div>"
      ],
      "text/plain": [
       "                                                source  count\n",
       "528                                 http://twitter.com  83906\n",
       "203                 http://twitter.com/download/iphone  73660\n",
       "510                http://twitter.com/download/android  37083\n",
       "198       https://about.twitter.com/products/tweetdeck   8697\n",
       "149                         https://mobile.twitter.com   3903\n",
       "69                         http://tapbots.com/tweetbot   2081\n",
       "74                            http://www.hootsuite.com   1518\n",
       "125                                   http://ifttt.com    775\n",
       "233           http://tapbots.com/software/tweetbot/mac    673\n",
       "151  http://itunes.apple.com/us/app/twitter/id40978...    542"
      ]
     },
     "execution_count": 45,
     "metadata": {},
     "output_type": "execute_result"
    }
   ],
   "source": [
    "import re\n",
    "\n",
    "def parse_html_tag(html_to_parse):\n",
    "    content = ''\n",
    "    match = re.search(r'http[s]?://(?:[a-zA-Z]|[0-9]|[$-_@.&+]|[!*\\(\\),]|(?:%[0-9a-fA-F][0-9a-fA-F]))+', html_to_parse)\n",
    "    if match:\n",
    "        content = match.group(0)\n",
    "    other_match = ['http://twitter.com', 'http://twitter.com/', 'http://www.twitter.com']\n",
    "    if 'ipad' in content:\n",
    "        return content\n",
    "    elif content in other_match:\n",
    "        return other_match[0]\n",
    "    return content\n",
    " \n",
    "\n",
    "sources = [parse_html_tag(post.get('source').strip()) for post in db.tweets.find()]\n",
    "sources = Counter(sources)\n",
    "#create DF\n",
    "sources_result = pd.DataFrame.from_dict(sources, orient='index').reset_index()\n",
    "sources_result = sources_result.rename(columns={'index':'source', 0:'count'}).sort_values('count',ascending=False )\n",
    "sources_result.head(10)"
   ]
  },
  {
   "cell_type": "markdown",
   "metadata": {},
   "source": [
    "### How many times a user have changed his pictures"
   ]
  },
  {
   "cell_type": "code",
   "execution_count": 46,
   "metadata": {
    "collapsed": false
   },
   "outputs": [
    {
     "data": {
      "text/html": [
       "<div>\n",
       "<table border=\"1\" class=\"dataframe\">\n",
       "  <thead>\n",
       "    <tr style=\"text-align: right;\">\n",
       "      <th></th>\n",
       "      <th>twitter_user_id</th>\n",
       "      <th>count</th>\n",
       "    </tr>\n",
       "  </thead>\n",
       "  <tbody>\n",
       "    <tr>\n",
       "      <th>46628</th>\n",
       "      <td>716501756</td>\n",
       "      <td>39</td>\n",
       "    </tr>\n",
       "    <tr>\n",
       "      <th>52124</th>\n",
       "      <td>1523352391</td>\n",
       "      <td>19</td>\n",
       "    </tr>\n",
       "    <tr>\n",
       "      <th>7024</th>\n",
       "      <td>264265349</td>\n",
       "      <td>10</td>\n",
       "    </tr>\n",
       "    <tr>\n",
       "      <th>32339</th>\n",
       "      <td>3798675252</td>\n",
       "      <td>10</td>\n",
       "    </tr>\n",
       "    <tr>\n",
       "      <th>50325</th>\n",
       "      <td>2537533467</td>\n",
       "      <td>9</td>\n",
       "    </tr>\n",
       "    <tr>\n",
       "      <th>37935</th>\n",
       "      <td>1651423068</td>\n",
       "      <td>9</td>\n",
       "    </tr>\n",
       "    <tr>\n",
       "      <th>33386</th>\n",
       "      <td>3024697997</td>\n",
       "      <td>8</td>\n",
       "    </tr>\n",
       "    <tr>\n",
       "      <th>9900</th>\n",
       "      <td>624107229</td>\n",
       "      <td>8</td>\n",
       "    </tr>\n",
       "    <tr>\n",
       "      <th>12413</th>\n",
       "      <td>3330492273</td>\n",
       "      <td>8</td>\n",
       "    </tr>\n",
       "    <tr>\n",
       "      <th>31172</th>\n",
       "      <td>2744249183</td>\n",
       "      <td>8</td>\n",
       "    </tr>\n",
       "  </tbody>\n",
       "</table>\n",
       "</div>"
      ],
      "text/plain": [
       "      twitter_user_id  count\n",
       "46628       716501756     39\n",
       "52124      1523352391     19\n",
       "7024        264265349     10\n",
       "32339      3798675252     10\n",
       "50325      2537533467      9\n",
       "37935      1651423068      9\n",
       "33386      3024697997      8\n",
       "9900        624107229      8\n",
       "12413      3330492273      8\n",
       "31172      2744249183      8"
      ]
     },
     "execution_count": 46,
     "metadata": {},
     "output_type": "execute_result"
    }
   ],
   "source": [
    "#\"twitter_user_id\": \"3983745855\"\n",
    "twitter_user_ids = [pic.get('twitter_user_id') for pic in db.pictures.find()]\n",
    "twitter_user_ids = Counter(twitter_user_ids)\n",
    "#create DF\n",
    "twitter_user_ids = pd.DataFrame.from_dict(twitter_user_ids, orient='index').reset_index()\n",
    "twitter_user_ids_result = twitter_user_ids.rename(columns={'index':'twitter_user_id', 0:'count'}).sort_values('count',ascending=False )\n",
    "twitter_user_ids_result.head(10)"
   ]
  },
  {
   "cell_type": "code",
   "execution_count": 47,
   "metadata": {
    "collapsed": false
   },
   "outputs": [
    {
     "name": "stdout",
     "output_type": "stream",
     "text": [
      "39\r\n"
     ]
    }
   ],
   "source": [
    "!grep -n '716501756' ../user_pictures.json | wc -l"
   ]
  },
  {
   "cell_type": "markdown",
   "metadata": {},
   "source": [
    "So this user with a twitter id of **716501756** have change his picture **39 times**. I didn't look into the folder **pictures** or look at each json file that has its tweeter id to verify the picture field have change. I used **wget** to download the pictures so the picture has was maybe for (picture.jpg, picture1.jpg ... n, picture39.jpg) for the same user."
   ]
  },
  {
   "cell_type": "markdown",
   "metadata": {},
   "source": [
    "## Kady case"
   ]
  },
  {
   "cell_type": "markdown",
   "metadata": {},
   "source": [
    "<a href=\"https://twitter.com/kady/status/733373184502865920\" target=\"_blank\"><img src=\"img/kady.png\"></a>"
   ]
  },
  {
   "cell_type": "markdown",
   "metadata": {},
   "source": [
    "Obviously the tweet belows if from or mention the real Kady"
   ]
  },
  {
   "cell_type": "markdown",
   "metadata": {},
   "source": [
    "### ???? the 3 pictures below is now from the real kady"
   ]
  },
  {
   "cell_type": "markdown",
   "metadata": {},
   "source": [
    "<a href=\"https://twitter.com/bxthany_m/status/745720102159527936\" target=\"_blank\"><img src=\"img/kady_other.png\"></a>\n",
    "<a href=\"https://twitter.com/AdrianeWelford/status/741381221150822401\" target=\"_blank\"><img src=\"img/kady2.png\"></a>\n",
    "<a href=\"https://twitter.com/AdrianeWelford/status/741381221150822401\" target=\"_blank\"><img src=\"img/kady2-r.png\"></a>"
   ]
  },
  {
   "cell_type": "code",
   "execution_count": 48,
   "metadata": {
    "collapsed": false
   },
   "outputs": [
    {
     "name": "stdout",
     "output_type": "stream",
     "text": [
      "-rw-r--r-- 1 guinsly guinsly 6545 juin  11 09:10 ../live_tweets/f8b77354-6437-43fe-8679-ee6adf4bde91.json\r\n"
     ]
    }
   ],
   "source": [
    "!ls -al ../live_tweets/f8b77354-6437-43fe-8679-ee6adf4bde91.json"
   ]
  },
  {
   "cell_type": "markdown",
   "metadata": {},
   "source": [
    "so this file was created obviously within the data collection date (May 18th - June 28th). "
   ]
  },
  {
   "cell_type": "code",
   "execution_count": 49,
   "metadata": {
    "collapsed": false
   },
   "outputs": [
    {
     "name": "stdout",
     "output_type": "stream",
     "text": [
      "kady.json\r\n"
     ]
    }
   ],
   "source": [
    "!ls ../live_tweets | grep -i 'kady'\n"
   ]
  },
  {
   "cell_type": "markdown",
   "metadata": {},
   "source": [
    "So there is only one targeted user 'kady' in our data collection. I can't seems to find what went wrong this is obviously a bug."
   ]
  },
  {
   "cell_type": "code",
   "execution_count": null,
   "metadata": {
    "collapsed": true
   },
   "outputs": [],
   "source": []
  }
 ],
 "metadata": {
  "anaconda-cloud": {},
  "kernelspec": {
   "display_name": "Python [Root]",
   "language": "python",
   "name": "Python [Root]"
  },
  "language_info": {
   "codemirror_mode": {
    "name": "ipython",
    "version": 3
   },
   "file_extension": ".py",
   "mimetype": "text/x-python",
   "name": "python",
   "nbconvert_exporter": "python",
   "pygments_lexer": "ipython3",
   "version": "3.5.2"
  }
 },
 "nbformat": 4,
 "nbformat_minor": 0
}
